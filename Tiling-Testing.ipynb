{
 "cells": [
  {
   "cell_type": "code",
   "execution_count": 1,
   "metadata": {
    "collapsed": true
   },
   "outputs": [],
   "source": [
    "import numpy as np\n",
    "from Tiling import Domain, Tile"
   ]
  },
  {
   "cell_type": "code",
   "execution_count": 2,
   "metadata": {
    "collapsed": true
   },
   "outputs": [],
   "source": [
    "dom = Domain(lo=[0,0], hi=[10,10])"
   ]
  },
  {
   "cell_type": "code",
   "execution_count": 3,
   "metadata": {
    "collapsed": true
   },
   "outputs": [],
   "source": [
    "atile = Tile(lo=[0,0], hi=[5,10], virtual=True)\n",
    "btile = Tile(lo=[5,0], hi=[10,10], virtual=True)"
   ]
  },
  {
   "cell_type": "code",
   "execution_count": 4,
   "metadata": {
    "collapsed": true
   },
   "outputs": [],
   "source": [
    "dom.tiles.append(atile)\n",
    "dom.tiles.append(btile)"
   ]
  },
  {
   "cell_type": "code",
   "execution_count": 5,
   "metadata": {
    "collapsed": false
   },
   "outputs": [
    {
     "name": "stdout",
     "output_type": "stream",
     "text": [
      "True\n",
      "False\n"
     ]
    }
   ],
   "source": [
    "ta = dom.tiles[0]\n",
    "tb = dom.tiles[1]\n",
    "print(ta.whether_occludes_tile(tb, 0))\n",
    "print(ta.whether_occludes_tile(tb, 1))"
   ]
  },
  {
   "cell_type": "code",
   "execution_count": 7,
   "metadata": {
    "collapsed": false
   },
   "outputs": [
    {
     "name": "stdout",
     "output_type": "stream",
     "text": [
      "GENERATING SURFACES FOR TILE ALONG DIM 0\n",
      "MADE A SURFACE, HERE IS THE REPORT::::\n",
      "--- TILE None REPORT ---\n",
      "--- VIRTUAL TILE = True ---\n",
      "--- LO = [0 0] ---\n",
      "--- HI = [ 0 10] ---\n",
      "--- SURFACE MASK = [-1, None] ---\n",
      "MADE A SURFACE, HERE IS THE REPORT::::\n",
      "--- TILE None REPORT ---\n",
      "--- VIRTUAL TILE = True ---\n",
      "--- LO = [5 0] ---\n",
      "--- HI = [ 5 10] ---\n",
      "--- SURFACE MASK = [1, None] ---\n",
      "GENERATING SURFACES FOR TILE ALONG DIM 0\n",
      "MADE A SURFACE, HERE IS THE REPORT::::\n",
      "--- TILE None REPORT ---\n",
      "--- VIRTUAL TILE = True ---\n",
      "--- LO = [5 0] ---\n",
      "--- HI = [ 5 10] ---\n",
      "--- SURFACE MASK = [-1, None] ---\n",
      "MADE A SURFACE, HERE IS THE REPORT::::\n",
      "--- TILE None REPORT ---\n",
      "--- VIRTUAL TILE = True ---\n",
      "--- LO = [10  0] ---\n",
      "--- HI = [10 10] ---\n",
      "--- SURFACE MASK = [1, None] ---\n",
      "identified osculation between sface 1 and aface 0 for di = 0\n",
      "OSCULATION INTERSECTION REPORT::::\n",
      "--- TILE None REPORT ---\n",
      "--- VIRTUAL TILE = True ---\n",
      "--- LO = [5 0] ---\n",
      "--- HI = [ 5 10] ---\n",
      "--- SURFACE MASK = [-1, None] ---\n",
      "Dimension 0\n",
      "ta surface: <Tiling.Tile object at 0x7f43658b0f98>\n",
      "ct surface: <Tiling.Tile object at 0x7f43658b0ba8>\n",
      "Dimension 1\n",
      "ta surface: None\n",
      "ct surface: None\n"
     ]
    }
   ],
   "source": [
    "sf, ct = ta.whether_osculates_tile(tb,0)\n",
    "print('Dimension 0')\n",
    "print('ta surface: {}'.format(sf))\n",
    "print('ct surface: {}'.format(ct))\n",
    "sf, ct = ta.whether_osculates_tile(tb,1)\n",
    "print('Dimension 1')\n",
    "print('ta surface: {}'.format(sf))\n",
    "print('ct surface: {}'.format(ct))"
   ]
  },
  {
   "cell_type": "code",
   "execution_count": null,
   "metadata": {
    "collapsed": true
   },
   "outputs": [],
   "source": []
  }
 ],
 "metadata": {
  "kernelspec": {
   "display_name": "Python 3",
   "language": "python",
   "name": "python3"
  },
  "language_info": {
   "codemirror_mode": {
    "name": "ipython",
    "version": 3
   },
   "file_extension": ".py",
   "mimetype": "text/x-python",
   "name": "python",
   "nbconvert_exporter": "python",
   "pygments_lexer": "ipython3",
   "version": "3.5.1"
  }
 },
 "nbformat": 4,
 "nbformat_minor": 0
}
