{
 "cells": [
  {
   "cell_type": "code",
   "execution_count": 1,
   "metadata": {
    "collapsed": false
   },
   "outputs": [],
   "source": [
    "%matplotlib inline\n",
    "import numpy as np\n",
    "from Tiling import Domain, Tile, Point"
   ]
  },
  {
   "cell_type": "code",
   "execution_count": 2,
   "metadata": {
    "collapsed": true
   },
   "outputs": [],
   "source": [
    "dom = Domain(lo=[0,0], hi=[10,10])"
   ]
  },
  {
   "cell_type": "code",
   "execution_count": 3,
   "metadata": {
    "collapsed": true
   },
   "outputs": [],
   "source": [
    "atile = Tile(lo=[0,0], hi=[5,5], virtual=False)\n",
    "btile = Tile(lo=[5,0], hi=[10,10], virtual=False)\n",
    "ctile = Tile(lo=[0,5], hi=[5,10], virtual=False)"
   ]
  },
  {
   "cell_type": "code",
   "execution_count": 4,
   "metadata": {
    "collapsed": true
   },
   "outputs": [],
   "source": [
    "dom.tiles.append(atile)\n",
    "dom.tiles.append(btile)\n",
    "dom.tiles.append(ctile)"
   ]
  },
  {
   "cell_type": "code",
   "execution_count": 5,
   "metadata": {
    "collapsed": false
   },
   "outputs": [
    {
     "data": {
      "image/png": "[encoded data removed]",
      "text/plain": [
       "<matplotlib.figure.Figure at 0x7fae48cd3e10>"
      ]
     },
     "metadata": {},
     "output_type": "display_data"
    }
   ],
   "source": [
    "dom.plot_domain_slice(show_plot=True)"
   ]
  },
  {
   "cell_type": "code",
   "execution_count": null,
   "metadata": {
    "collapsed": false
   },
   "outputs": [],
   "source": [
    "ta = dom.tiles[0]\n",
    "tb = dom.tiles[1]\n",
    "print(ta.whether_occludes_tile(tb, 0))\n",
    "print(ta.whether_occludes_tile(tb, 1))"
   ]
  },
  {
   "cell_type": "code",
   "execution_count": null,
   "metadata": {
    "collapsed": false
   },
   "outputs": [],
   "source": [
    "sf, ct = ta.whether_osculates_tile(tb,0)\n",
    "print('Dimension 0')\n",
    "print('ta surface: {}'.format(sf))\n",
    "print('ct surface: {}'.format(ct))\n",
    "sf, ct = ta.whether_osculates_tile(tb,1)\n",
    "print('Dimension 1')\n",
    "print('ta surface: {}'.format(sf))\n",
    "print('ct surface: {}'.format(ct))"
   ]
  },
  {
   "cell_type": "code",
   "execution_count": null,
   "metadata": {
    "collapsed": true
   },
   "outputs": [],
   "source": []
  }
 ],
 "metadata": {
  "anaconda-cloud": {},
  "kernelspec": {
   "display_name": "Python [default]",
   "language": "python",
   "name": "python3"
  },
  "language_info": {
   "codemirror_mode": {
    "name": "ipython",
    "version": 3
   },
   "file_extension": ".py",
   "mimetype": "text/x-python",
   "name": "python",
   "nbconvert_exporter": "python",
   "pygments_lexer": "ipython3",
   "version": "3.5.2"
  }
 },
 "nbformat": 4,
 "nbformat_minor": 0
}
